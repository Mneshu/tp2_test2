{
 "cells": [
  {
   "cell_type": "code",
   "execution_count": 1,
   "id": "698f288f-afa7-40a6-bd8e-7f4887027c69",
   "metadata": {},
   "outputs": [],
   "source": [
    "import sys\n",
    "import heapq\n"
   ]
  },
  {
   "cell_type": "code",
   "execution_count": 40,
   "id": "788bbb52-a59a-425b-9905-efc3449bf74d",
   "metadata": {},
   "outputs": [
    {
     "name": "stdout",
     "output_type": "stream",
     "text": [
      "Shortest distance from dbn to jhb: 324\n",
      "Shortest path from dbn to jhb: ['dbn', 'RBY', 'vrt', 'jhb']\n"
     ]
    }
   ],
   "source": [
    "def dijkstra(graph, start, end):\n",
    "    queue = []\n",
    "    heapq.heappush(queue, (0, start))\n",
    "    distances = {node: sys.maxsize for node in graph}\n",
    "    distances[start] = 0\n",
    "    shortest_path = {}\n",
    "\n",
    "    while queue:\n",
    "        current_distance, current_node = heapq.heappop(queue)\n",
    "\n",
    "        if distances[current_node] < current_distance:\n",
    "            continue\n",
    "\n",
    "        for neighbor, weight in graph[current_node].items():\n",
    "            distance = current_distance + weight\n",
    "\n",
    "            if distance < distances[neighbor]:\n",
    "                distances[neighbor] = distance\n",
    "                heapq.heappush(queue, (distance, neighbor))\n",
    "                shortest_path[neighbor] = current_node\n",
    "\n",
    "   \n",
    "    path = []\n",
    "    while end is not None:\n",
    "        path.append(end)\n",
    "        end = shortest_path.get(end)\n",
    "\n",
    "\n",
    "    return distances, path[::-1]\n",
    "\n",
    "graph = { \n",
    "    'dbn':{'pmb':89,'RBY':112}, \n",
    "    'pmb':{'dbn':89,'RBY':70,'htm':209}, \n",
    "    'RBY':{'dbn':112,'pmb':70,'htm':100,'vrt':106}, \n",
    "    'htm':{'pmb':209,'RBY':100,'vrt':41,'jhb':210}, \n",
    "    'vrt':{'RBY':106,'htm':41,'jhb':106}, \n",
    "    'jhb':{'vrt':106,'hmt':210}, \n",
    "    'hmt':{} \n",
    "}\n",
    "\n",
    "\n",
    "start_node = 'dbn'\n",
    "end_node = 'jhb'\n",
    "\n",
    "distances, shortest_path = dijkstra(graph, start_node, end_node)\n",
    "\n",
    "print(f\"Shortest distance from {start_node} to {end_node}: {distances[end_node]}\")\n",
    "print(f\"Shortest path from {start_node} to {end_node}: {shortest_path}\")"
   ]
  },
  {
   "cell_type": "code",
   "execution_count": null,
   "id": "27ede1b4-81bf-46ca-b220-99f9332e38fd",
   "metadata": {},
   "outputs": [],
   "source": []
  }
 ],
 "metadata": {
  "kernelspec": {
   "display_name": "Python 3 (ipykernel)",
   "language": "python",
   "name": "python3"
  },
  "language_info": {
   "codemirror_mode": {
    "name": "ipython",
    "version": 3
   },
   "file_extension": ".py",
   "mimetype": "text/x-python",
   "name": "python",
   "nbconvert_exporter": "python",
   "pygments_lexer": "ipython3",
   "version": "3.11.7"
  }
 },
 "nbformat": 4,
 "nbformat_minor": 5
}
