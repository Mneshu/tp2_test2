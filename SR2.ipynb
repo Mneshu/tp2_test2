{
 "cells": [
  {
   "cell_type": "code",
   "execution_count": 5,
   "id": "037724d9-b3cf-4ead-a340-c44a9ecb4823",
   "metadata": {},
   "outputs": [],
   "source": [
    "import pandas as pd\n",
    "data = pd.read_csv(\"C:/Users/Sfundesihle/Desktop/test/population-and-demography.csv/population-and-demography.csv\")\n"
   ]
  },
  {
   "cell_type": "code",
   "execution_count": 7,
   "id": "7a9f20d6-f988-4555-8807-0794051faf5f",
   "metadata": {},
   "outputs": [
    {
     "name": "stdout",
     "output_type": "stream",
     "text": [
      "Dataset Information:\n",
      "<class 'pandas.core.frame.DataFrame'>\n",
      "RangeIndex: 18288 entries, 0 to 18287\n",
      "Data columns (total 24 columns):\n",
      " #   Column                                      Non-Null Count  Dtype  \n",
      "---  ------                                      --------------  -----  \n",
      " 0   Country name                                18288 non-null  object \n",
      " 1   Year                                        18288 non-null  int64  \n",
      " 2   Population                                  18288 non-null  int64  \n",
      " 3   Population of children under the age of 1   18288 non-null  float64\n",
      " 4   Population of children under the age of 5   18288 non-null  int64  \n",
      " 5   Population of children under the age of 15  18288 non-null  int64  \n",
      " 6   Population under the age of 25              18288 non-null  int64  \n",
      " 7   Population aged 15 to 64 years              18288 non-null  int64  \n",
      " 8   Population older than 15 years              18288 non-null  int64  \n",
      " 9   Population older than 18 years              18288 non-null  int64  \n",
      " 10  Population at age 1                         18288 non-null  float64\n",
      " 11  Population aged 1 to 4 years                18288 non-null  float64\n",
      " 12  Population aged 5 to 9 years                18288 non-null  int64  \n",
      " 13  Population aged 10 to 14 years              18288 non-null  int64  \n",
      " 14  Population aged 15 to 19 years              18288 non-null  int64  \n",
      " 15  Population aged 20 to 29 years              18288 non-null  int64  \n",
      " 16  Population aged 30 to 39 years              18288 non-null  int64  \n",
      " 17  Population aged 40 to 49 years              18288 non-null  int64  \n",
      " 18  Population aged 50 to 59 years              18288 non-null  int64  \n",
      " 19  Population aged 60 to 69 years              18288 non-null  int64  \n",
      " 20  Population aged 70 to 79 years              18288 non-null  int64  \n",
      " 21  Population aged 80 to 89 years              18288 non-null  int64  \n",
      " 22  Population aged 90 to 99 years              18288 non-null  int64  \n",
      " 23  Population older than 100 years             18288 non-null  float64\n",
      "dtypes: float64(4), int64(19), object(1)\n",
      "memory usage: 3.3+ MB\n",
      "None\n"
     ]
    }
   ],
   "source": [
    "\n",
    "# Display basic information about the dataset\n",
    "print(\"Dataset Information:\")\n",
    "print(data.info())\n",
    "\n"
   ]
  },
  {
   "cell_type": "code",
   "execution_count": 8,
   "id": "cffb501c-96e9-44ab-b8d9-a3fd3ba2711d",
   "metadata": {},
   "outputs": [
    {
     "name": "stdout",
     "output_type": "stream",
     "text": [
      "\n",
      "Dataset Shape (rows, columns): (18288, 24)\n"
     ]
    }
   ],
   "source": [
    "# Display the size of the dataset\n",
    "print(\"\\nDataset Shape (rows, columns):\", data.shape)\n",
    "\n"
   ]
  },
  {
   "cell_type": "code",
   "execution_count": 9,
   "id": "659ba193-e3f8-4313-b249-f9a3704dd452",
   "metadata": {},
   "outputs": [
    {
     "name": "stdout",
     "output_type": "stream",
     "text": [
      "\n",
      "First few rows of the dataset:\n",
      "  Country name  Year  Population  Population of children under the age of 1  \\\n",
      "0  Afghanistan  1950     7480464                                   301735.0   \n",
      "1  Afghanistan  1951     7571542                                   299368.0   \n",
      "2  Afghanistan  1952     7667534                                   305393.0   \n",
      "3  Afghanistan  1953     7764549                                   311574.0   \n",
      "4  Afghanistan  1954     7864289                                   317584.0   \n",
      "\n",
      "   Population of children under the age of 5  \\\n",
      "0                                    1248282   \n",
      "1                                    1246857   \n",
      "2                                    1248220   \n",
      "3                                    1254725   \n",
      "4                                    1267817   \n",
      "\n",
      "   Population of children under the age of 15  Population under the age of 25  \\\n",
      "0                                     3068855                         4494349   \n",
      "1                                     3105444                         4552138   \n",
      "2                                     3145070                         4613604   \n",
      "3                                     3186382                         4676232   \n",
      "4                                     3231060                         4741371   \n",
      "\n",
      "   Population aged 15 to 64 years  Population older than 15 years  \\\n",
      "0                         4198587                         4411609   \n",
      "1                         4250002                         4466098   \n",
      "2                         4303436                         4522464   \n",
      "3                         4356242                         4578167   \n",
      "4                         4408474                         4633229   \n",
      "\n",
      "   Population older than 18 years  ...  Population aged 15 to 19 years  \\\n",
      "0                         3946595  ...                          757113   \n",
      "1                         3993640  ...                          768616   \n",
      "2                         4041439  ...                          781411   \n",
      "3                         4088379  ...                          794308   \n",
      "4                         4136116  ...                          806216   \n",
      "\n",
      "   Population aged 20 to 29 years  Population aged 30 to 39 years  \\\n",
      "0                         1241348                          909953   \n",
      "1                         1260904                          922765   \n",
      "2                         1280288                          935638   \n",
      "3                         1298803                          948321   \n",
      "4                         1316768                          961484   \n",
      "\n",
      "   Population aged 40 to 49 years  Population aged 50 to 59 years  \\\n",
      "0                          661807                          467170   \n",
      "1                          667015                          468881   \n",
      "2                          672491                          470898   \n",
      "3                          678064                          472969   \n",
      "4                          684153                          475117   \n",
      "\n",
      "   Population aged 60 to 69 years  Population aged 70 to 79 years  \\\n",
      "0                          271905                           92691   \n",
      "1                          273286                           94358   \n",
      "2                          274852                           96026   \n",
      "3                          276577                           97705   \n",
      "4                          278210                           99298   \n",
      "\n",
      "   Population aged 80 to 89 years  Population aged 90 to 99 years  \\\n",
      "0                            9499                             123   \n",
      "1                           10155                             118   \n",
      "2                           10721                             139   \n",
      "3                           11254                             166   \n",
      "4                           11793                             190   \n",
      "\n",
      "   Population older than 100 years  \n",
      "0                              0.0  \n",
      "1                              0.0  \n",
      "2                              0.0  \n",
      "3                              0.0  \n",
      "4                              0.0  \n",
      "\n",
      "[5 rows x 24 columns]\n"
     ]
    }
   ],
   "source": [
    "# Display the first few rows of the dataset\n",
    "\n",
    "print(\"\\nFirst few rows of the dataset:\")\n",
    "print(data.head())\n",
    "\n"
   ]
  },
  {
   "cell_type": "code",
   "execution_count": 10,
   "id": "53b657dc-583c-44a8-84b8-85a7709f1f95",
   "metadata": {},
   "outputs": [
    {
     "name": "stdout",
     "output_type": "stream",
     "text": [
      "\n",
      "Column names:\n",
      "Index(['Country name', 'Year', 'Population',\n",
      "       'Population of children under the age of 1',\n",
      "       'Population of children under the age of 5',\n",
      "       'Population of children under the age of 15',\n",
      "       'Population under the age of 25', 'Population aged 15 to 64 years',\n",
      "       'Population older than 15 years', 'Population older than 18 years',\n",
      "       'Population at age 1', 'Population aged 1 to 4 years',\n",
      "       'Population aged 5 to 9 years', 'Population aged 10 to 14 years',\n",
      "       'Population aged 15 to 19 years', 'Population aged 20 to 29 years',\n",
      "       'Population aged 30 to 39 years', 'Population aged 40 to 49 years',\n",
      "       'Population aged 50 to 59 years', 'Population aged 60 to 69 years',\n",
      "       'Population aged 70 to 79 years', 'Population aged 80 to 89 years',\n",
      "       'Population aged 90 to 99 years', 'Population older than 100 years'],\n",
      "      dtype='object')\n"
     ]
    }
   ],
   "source": [
    "\n",
    "print(\"\\nColumn names:\")\n",
    "print(data.columns)\n",
    "\n",
    "\n"
   ]
  },
  {
   "cell_type": "code",
   "execution_count": 11,
   "id": "c326b8d9-ca28-4a4c-adf3-250b055febb4",
   "metadata": {},
   "outputs": [
    {
     "name": "stdout",
     "output_type": "stream",
     "text": [
      "\n",
      "First 10 rows:\n",
      "  Country name  Year  Population  Population of children under the age of 1  \\\n",
      "0  Afghanistan  1950     7480464                                   301735.0   \n",
      "1  Afghanistan  1951     7571542                                   299368.0   \n",
      "2  Afghanistan  1952     7667534                                   305393.0   \n",
      "3  Afghanistan  1953     7764549                                   311574.0   \n",
      "4  Afghanistan  1954     7864289                                   317584.0   \n",
      "5  Afghanistan  1955     7971933                                   323910.0   \n",
      "6  Afghanistan  1956     8087730                                   330888.0   \n",
      "7  Afghanistan  1957     8210207                                   337874.0   \n",
      "8  Afghanistan  1958     8333827                                   344796.0   \n",
      "9  Afghanistan  1959     8468220                                   352235.0   \n",
      "\n",
      "   Population of children under the age of 5  \\\n",
      "0                                    1248282   \n",
      "1                                    1246857   \n",
      "2                                    1248220   \n",
      "3                                    1254725   \n",
      "4                                    1267817   \n",
      "5                                    1291129   \n",
      "6                                    1322342   \n",
      "7                                    1354752   \n",
      "8                                    1387274   \n",
      "9                                    1421808   \n",
      "\n",
      "   Population of children under the age of 15  Population under the age of 25  \\\n",
      "0                                     3068855                         4494349   \n",
      "1                                     3105444                         4552138   \n",
      "2                                     3145070                         4613604   \n",
      "3                                     3186382                         4676232   \n",
      "4                                     3231060                         4741371   \n",
      "5                                     3281470                         4812348   \n",
      "6                                     3337026                         4889244   \n",
      "7                                     3396048                         4971030   \n",
      "8                                     3455343                         5054113   \n",
      "9                                     3518528                         5144615   \n",
      "\n",
      "   Population aged 15 to 64 years  Population older than 15 years  \\\n",
      "0                         4198587                         4411609   \n",
      "1                         4250002                         4466098   \n",
      "2                         4303436                         4522464   \n",
      "3                         4356242                         4578167   \n",
      "4                         4408474                         4633229   \n",
      "5                         4462830                         4690463   \n",
      "6                         4520007                         4750704   \n",
      "7                         4580195                         4814159   \n",
      "8                         4641086                         4878484   \n",
      "9                         4708834                         4949692   \n",
      "\n",
      "   Population older than 18 years  ...  Population aged 15 to 19 years  \\\n",
      "0                         3946595  ...                          757113   \n",
      "1                         3993640  ...                          768616   \n",
      "2                         4041439  ...                          781411   \n",
      "3                         4088379  ...                          794308   \n",
      "4                         4136116  ...                          806216   \n",
      "5                         4187921  ...                          817550   \n",
      "6                         4243047  ...                          828600   \n",
      "7                         4299625  ...                          839588   \n",
      "8                         4354701  ...                          851433   \n",
      "9                         4413813  ...                          867048   \n",
      "\n",
      "   Population aged 20 to 29 years  Population aged 30 to 39 years  \\\n",
      "0                         1241348                          909953   \n",
      "1                         1260904                          922765   \n",
      "2                         1280288                          935638   \n",
      "3                         1298803                          948321   \n",
      "4                         1316768                          961484   \n",
      "5                         1334989                          975801   \n",
      "6                         1353958                          991166   \n",
      "7                         1374043                         1007440   \n",
      "8                         1393789                         1023595   \n",
      "9                         1414034                         1040441   \n",
      "\n",
      "   Population aged 40 to 49 years  Population aged 50 to 59 years  \\\n",
      "0                          661807                          467170   \n",
      "1                          667015                          468881   \n",
      "2                          672491                          470898   \n",
      "3                          678064                          472969   \n",
      "4                          684153                          475117   \n",
      "5                          691279                          477664   \n",
      "6                          699431                          480665   \n",
      "7                          708537                          484018   \n",
      "8                          717938                          487393   \n",
      "9                          728233                          491447   \n",
      "\n",
      "   Population aged 60 to 69 years  Population aged 70 to 79 years  \\\n",
      "0                          271905                           92691   \n",
      "1                          273286                           94358   \n",
      "2                          274852                           96026   \n",
      "3                          276577                           97705   \n",
      "4                          278210                           99298   \n",
      "5                          279789                          100839   \n",
      "6                          281376                          102385   \n",
      "7                          282918                          103932   \n",
      "8                          284592                          105508   \n",
      "9                          286551                          107136   \n",
      "\n",
      "   Population aged 80 to 89 years  Population aged 90 to 99 years  \\\n",
      "0                            9499                             123   \n",
      "1                           10155                             118   \n",
      "2                           10721                             139   \n",
      "3                           11254                             166   \n",
      "4                           11793                             190   \n",
      "5                           12342                             210   \n",
      "6                           12890                             233   \n",
      "7                           13428                             255   \n",
      "8                           13959                             277   \n",
      "9                           14495                             307   \n",
      "\n",
      "   Population older than 100 years  \n",
      "0                              0.0  \n",
      "1                              0.0  \n",
      "2                              0.0  \n",
      "3                              0.0  \n",
      "4                              0.0  \n",
      "5                              0.0  \n",
      "6                              0.0  \n",
      "7                              0.0  \n",
      "8                              0.0  \n",
      "9                              0.0  \n",
      "\n",
      "[10 rows x 24 columns]\n"
     ]
    }
   ],
   "source": [
    "print(\"\\nFirst 10 rows:\")\n",
    "print(data[:10])\n",
    "\n"
   ]
  },
  {
   "cell_type": "code",
   "execution_count": 31,
   "id": "a3734c6c-fb7d-4ed4-b918-a26d29b5ac50",
   "metadata": {},
   "outputs": [
    {
     "name": "stdout",
     "output_type": "stream",
     "text": [
      "\n",
      "Slicing specific column (Population):\n",
      "       Population\n",
      "0         7480464\n",
      "1         7571542\n",
      "2         7667534\n",
      "3         7764549\n",
      "4         7864289\n",
      "...           ...\n",
      "18283    14751101\n",
      "18284    15052191\n",
      "18285    15354606\n",
      "18286    15669663\n",
      "18287    15993525\n",
      "\n",
      "[18288 rows x 1 columns]\n"
     ]
    }
   ],
   "source": [
    "\n",
    "print(\"\\nSlicing specific column (Population):\")\n",
    "print(data[[ 'Population']])\n",
    "\n",
    "\n"
   ]
  },
  {
   "cell_type": "code",
   "execution_count": 13,
   "id": "187f0669-c844-4fac-916c-97112285739e",
   "metadata": {},
   "outputs": [
    {
     "name": "stdout",
     "output_type": "stream",
     "text": [
      "\n",
      "Value in the first row and 'Population' column:\n",
      "7480464\n"
     ]
    }
   ],
   "source": [
    "print(\"\\nValue in the first row and 'Population' column:\")\n",
    "print(data.at[0, 'Population'])"
   ]
  },
  {
   "cell_type": "code",
   "execution_count": 14,
   "id": "3ff19d33-4b3a-46a2-bc5c-cf70fc1e558a",
   "metadata": {},
   "outputs": [
    {
     "name": "stdout",
     "output_type": "stream",
     "text": [
      "\n",
      "Missing values in each column:\n",
      "Country name                                  0\n",
      "Year                                          0\n",
      "Population                                    0\n",
      "Population of children under the age of 1     0\n",
      "Population of children under the age of 5     0\n",
      "Population of children under the age of 15    0\n",
      "Population under the age of 25                0\n",
      "Population aged 15 to 64 years                0\n",
      "Population older than 15 years                0\n",
      "Population older than 18 years                0\n",
      "Population at age 1                           0\n",
      "Population aged 1 to 4 years                  0\n",
      "Population aged 5 to 9 years                  0\n",
      "Population aged 10 to 14 years                0\n",
      "Population aged 15 to 19 years                0\n",
      "Population aged 20 to 29 years                0\n",
      "Population aged 30 to 39 years                0\n",
      "Population aged 40 to 49 years                0\n",
      "Population aged 50 to 59 years                0\n",
      "Population aged 60 to 69 years                0\n",
      "Population aged 70 to 79 years                0\n",
      "Population aged 80 to 89 years                0\n",
      "Population aged 90 to 99 years                0\n",
      "Population older than 100 years               0\n",
      "dtype: int64\n"
     ]
    }
   ],
   "source": [
    "\n",
    "print(\"\\nMissing values in each column:\")\n",
    "print(data.isnull().sum())\n",
    "\n"
   ]
  },
  {
   "cell_type": "code",
   "execution_count": 15,
   "id": "8351fced-7c1c-4fcf-a1ca-250212915b37",
   "metadata": {},
   "outputs": [
    {
     "name": "stdout",
     "output_type": "stream",
     "text": [
      "\n",
      "Rows with missing values:\n",
      "Empty DataFrame\n",
      "Columns: [Country name, Year, Population, Population of children under the age of 1, Population of children under the age of 5, Population of children under the age of 15, Population under the age of 25, Population aged 15 to 64 years, Population older than 15 years, Population older than 18 years, Population at age 1, Population aged 1 to 4 years, Population aged 5 to 9 years, Population aged 10 to 14 years, Population aged 15 to 19 years, Population aged 20 to 29 years, Population aged 30 to 39 years, Population aged 40 to 49 years, Population aged 50 to 59 years, Population aged 60 to 69 years, Population aged 70 to 79 years, Population aged 80 to 89 years, Population aged 90 to 99 years, Population older than 100 years]\n",
      "Index: []\n",
      "\n",
      "[0 rows x 24 columns]\n"
     ]
    }
   ],
   "source": [
    "\n",
    "print(\"\\nRows with missing values:\")\n",
    "print(data[data.isnull().any(axis=1)])"
   ]
  },
  {
   "cell_type": "code",
   "execution_count": 33,
   "id": "3c179064-b7a6-4e50-ad8f-695725e860ab",
   "metadata": {},
   "outputs": [],
   "source": [
    "from sklearn.preprocessing import MinMaxScaler, StandardScaler\n",
    "\n",
    "scaler = MinMaxScaler()\n",
    "data['Population_Normalized'] = scaler.fit_transform(data[['Population']])\n",
    "\n"
   ]
  },
  {
   "cell_type": "code",
   "execution_count": 34,
   "id": "c12dd945-dff1-4ec9-97d5-5c5fdd067d4c",
   "metadata": {},
   "outputs": [],
   "source": [
    "\n",
    "standard_scaler = StandardScaler()\n",
    "data['Population_Standardized'] = standard_scaler.fit_transform(data[['Population']])\n"
   ]
  },
  {
   "cell_type": "code",
   "execution_count": 35,
   "id": "9738d956-0516-47ee-8fdd-65e9f63dfd6f",
   "metadata": {},
   "outputs": [
    {
     "name": "stdout",
     "output_type": "stream",
     "text": [
      "\n",
      "First few rows with normalized and standardized 'Population' column:\n",
      "   Population  Population_Normalized  Population_Standardized\n",
      "0     7480464               0.000946                -0.202077\n",
      "1     7571542               0.000957                -0.201922\n",
      "2     7667534               0.000969                -0.201759\n",
      "3     7764549               0.000982                -0.201594\n",
      "4     7864289               0.000994                -0.201425\n"
     ]
    }
   ],
   "source": [
    "\n",
    "print(\"\\nFirst few rows with normalized and standardized 'Population' column:\")\n",
    "print(data[['Population', 'Population_Normalized', 'Population_Standardized']].head())"
   ]
  },
  {
   "cell_type": "code",
   "execution_count": null,
   "id": "9e12d03c-a4d3-4725-b198-2c18edfc6b5c",
   "metadata": {},
   "outputs": [],
   "source": []
  }
 ],
 "metadata": {
  "kernelspec": {
   "display_name": "Python 3 (ipykernel)",
   "language": "python",
   "name": "python3"
  },
  "language_info": {
   "codemirror_mode": {
    "name": "ipython",
    "version": 3
   },
   "file_extension": ".py",
   "mimetype": "text/x-python",
   "name": "python",
   "nbconvert_exporter": "python",
   "pygments_lexer": "ipython3",
   "version": "3.11.7"
  }
 },
 "nbformat": 4,
 "nbformat_minor": 5
}
