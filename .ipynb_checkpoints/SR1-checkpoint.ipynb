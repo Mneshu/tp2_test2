{
 "cells": [
  {
   "cell_type": "code",
   "execution_count": 1,
   "id": "e101ac5e-37a4-40c8-976e-f3c91f89f4f3",
   "metadata": {},
   "outputs": [],
   "source": [
    "import pandas as pd\n",
    "\n",
    "data=pd.read_csv(\"C:/Users/Sfundesihle/Desktop/test/population-and-demography.csv/population-and-demography.csv\")"
   ]
  },
  {
   "cell_type": "code",
   "execution_count": 3,
   "id": "c13be20b-2515-41df-91e0-daf097226b3f",
   "metadata": {},
   "outputs": [
    {
     "name": "stdout",
     "output_type": "stream",
     "text": [
      "  Country name  Year  Population  Population of children under the age of 1  \\\n",
      "0  Afghanistan  1950     7480464                                   301735.0   \n",
      "1  Afghanistan  1951     7571542                                   299368.0   \n",
      "2  Afghanistan  1952     7667534                                   305393.0   \n",
      "3  Afghanistan  1953     7764549                                   311574.0   \n",
      "4  Afghanistan  1954     7864289                                   317584.0   \n",
      "\n",
      "   Population of children under the age of 5  \\\n",
      "0                                    1248282   \n",
      "1                                    1246857   \n",
      "2                                    1248220   \n",
      "3                                    1254725   \n",
      "4                                    1267817   \n",
      "\n",
      "   Population of children under the age of 15  Population under the age of 25  \\\n",
      "0                                     3068855                         4494349   \n",
      "1                                     3105444                         4552138   \n",
      "2                                     3145070                         4613604   \n",
      "3                                     3186382                         4676232   \n",
      "4                                     3231060                         4741371   \n",
      "\n",
      "   Population aged 15 to 64 years  Population older than 15 years  \\\n",
      "0                         4198587                         4411609   \n",
      "1                         4250002                         4466098   \n",
      "2                         4303436                         4522464   \n",
      "3                         4356242                         4578167   \n",
      "4                         4408474                         4633229   \n",
      "\n",
      "   Population older than 18 years  ...  Population aged 15 to 19 years  \\\n",
      "0                         3946595  ...                          757113   \n",
      "1                         3993640  ...                          768616   \n",
      "2                         4041439  ...                          781411   \n",
      "3                         4088379  ...                          794308   \n",
      "4                         4136116  ...                          806216   \n",
      "\n",
      "   Population aged 20 to 29 years  Population aged 30 to 39 years  \\\n",
      "0                         1241348                          909953   \n",
      "1                         1260904                          922765   \n",
      "2                         1280288                          935638   \n",
      "3                         1298803                          948321   \n",
      "4                         1316768                          961484   \n",
      "\n",
      "   Population aged 40 to 49 years  Population aged 50 to 59 years  \\\n",
      "0                          661807                          467170   \n",
      "1                          667015                          468881   \n",
      "2                          672491                          470898   \n",
      "3                          678064                          472969   \n",
      "4                          684153                          475117   \n",
      "\n",
      "   Population aged 60 to 69 years  Population aged 70 to 79 years  \\\n",
      "0                          271905                           92691   \n",
      "1                          273286                           94358   \n",
      "2                          274852                           96026   \n",
      "3                          276577                           97705   \n",
      "4                          278210                           99298   \n",
      "\n",
      "   Population aged 80 to 89 years  Population aged 90 to 99 years  \\\n",
      "0                            9499                             123   \n",
      "1                           10155                             118   \n",
      "2                           10721                             139   \n",
      "3                           11254                             166   \n",
      "4                           11793                             190   \n",
      "\n",
      "   Population older than 100 years  \n",
      "0                              0.0  \n",
      "1                              0.0  \n",
      "2                              0.0  \n",
      "3                              0.0  \n",
      "4                              0.0  \n",
      "\n",
      "[5 rows x 24 columns]\n"
     ]
    }
   ],
   "source": [
    "print(data.head())"
   ]
  },
  {
   "cell_type": "code",
   "execution_count": null,
   "id": "f4e2f50d-7e86-42e2-8da3-fc963cc6e557",
   "metadata": {},
   "outputs": [],
   "source": []
  }
 ],
 "metadata": {
  "kernelspec": {
   "display_name": "Python 3 (ipykernel)",
   "language": "python",
   "name": "python3"
  },
  "language_info": {
   "codemirror_mode": {
    "name": "ipython",
    "version": 3
   },
   "file_extension": ".py",
   "mimetype": "text/x-python",
   "name": "python",
   "nbconvert_exporter": "python",
   "pygments_lexer": "ipython3",
   "version": "3.11.7"
  }
 },
 "nbformat": 4,
 "nbformat_minor": 5
}
