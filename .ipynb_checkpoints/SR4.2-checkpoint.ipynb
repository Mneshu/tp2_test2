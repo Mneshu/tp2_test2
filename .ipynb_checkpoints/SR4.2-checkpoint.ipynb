{
 "cells": [
  {
   "cell_type": "code",
   "execution_count": 1,
   "id": "d2ceadef-d6f6-4d37-80bd-8902c70038a7",
   "metadata": {},
   "outputs": [],
   "source": [
    "import pandas as pd\n",
    "data= pd.read_csv(\"C:/Users/Sfundesihle/Desktop/test/population-and-demography.csv/population-and-demography.csv\")\n",
    "\n",
    "population_list = data['Population'].tolist()"
   ]
  },
  {
   "cell_type": "code",
   "execution_count": 2,
   "id": "8e6e55b6-3a8b-460a-89eb-67ed0f832715",
   "metadata": {},
   "outputs": [],
   "source": [
    "def binary_search(arr, target):\n",
    "    low = 0\n",
    "    high = len(arr) - 1\n",
    "    while low <= high:\n",
    "        mid = (low + high) // 2\n",
    "        if arr[mid] == target:\n",
    "            return mid\n",
    "        elif arr[mid] < target:\n",
    "            low = mid + 1\n",
    "        else:\n",
    "            high = mid - 1\n",
    "    return -1"
   ]
  },
  {
   "cell_type": "code",
   "execution_count": 3,
   "id": "8960693c-b3b7-49bc-ac56-f67d9a605c48",
   "metadata": {},
   "outputs": [],
   "source": [
    "sorted_population_list = sorted(population_list)"
   ]
  },
  {
   "cell_type": "code",
   "execution_count": 6,
   "id": "490b8237-93a7-49fc-b5b9-d629831393d7",
   "metadata": {},
   "outputs": [],
   "source": [
    "target = 50293 \n"
   ]
  },
  {
   "cell_type": "code",
   "execution_count": 7,
   "id": "600cafca-ec7c-4159-8942-3ac4655cf183",
   "metadata": {},
   "outputs": [
    {
     "name": "stdout",
     "output_type": "stream",
     "text": [
      "Binary Search: Element not found\n"
     ]
    }
   ],
   "source": [
    "binary_search_result = binary_search(sorted_population_list, target)\n",
    "print(f'Binary Search: Element found at index {binary_search_result}' if binary_search_result != -1 else 'Binary Search: Element not found')"
   ]
  },
  {
   "cell_type": "code",
   "execution_count": null,
   "id": "893234d9-0cdc-43bd-bf0b-9fd46e1c973b",
   "metadata": {},
   "outputs": [],
   "source": []
  }
 ],
 "metadata": {
  "kernelspec": {
   "display_name": "Python 3 (ipykernel)",
   "language": "python",
   "name": "python3"
  },
  "language_info": {
   "codemirror_mode": {
    "name": "ipython",
    "version": 3
   },
   "file_extension": ".py",
   "mimetype": "text/x-python",
   "name": "python",
   "nbconvert_exporter": "python",
   "pygments_lexer": "ipython3",
   "version": "3.11.7"
  }
 },
 "nbformat": 4,
 "nbformat_minor": 5
}
